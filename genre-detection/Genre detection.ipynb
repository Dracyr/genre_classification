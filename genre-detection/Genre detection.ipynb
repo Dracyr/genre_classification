{
 "cells": [
  {
   "cell_type": "code",
   "execution_count": 2,
   "metadata": {},
   "outputs": [],
   "source": [
    "\"\"\"\n",
    "# Music Classifier\n",
    "\n",
    "Getting labels?\n",
    "\tVad har jag för taggar?\n",
    "Beats or Genre?\n",
    "\n",
    "\n",
    "\n",
    "1. Pre-processing\n",
    "\t* Cut to 30s?\n",
    "\t* Downsample\n",
    "\t* DCT-transform\n",
    "\n",
    "\n",
    "\n",
    "2. Classification\n",
    "\tGenre?\n",
    "\n",
    "\"\"\"\n",
    "None"
   ]
  },
  {
   "cell_type": "code",
   "execution_count": 5,
   "metadata": {},
   "outputs": [],
   "source": [
    "path = \"/Volumes/Musik/Music Datasets/giantsteps-tempo-dataset/audio/672063.LOFI.wav\"\n",
    "file = open(path)"
   ]
  },
  {
   "cell_type": "code",
   "execution_count": 115,
   "metadata": {},
   "outputs": [],
   "source": [
    "from pydub import AudioSegment\n",
    "from scipy import signal, fftpack\n",
    "import numpy as np\n",
    "song = AudioSegment.from_wav(path)"
   ]
  },
  {
   "cell_type": "code",
   "execution_count": 114,
   "metadata": {},
   "outputs": [],
   "source": [
    "first_second = song[10000:11000]\n",
    "first_second.set_frame_rate(16000)\n",
    "sample_array = np.array(first_second.get_array_of_samples())\n",
    "# sound = AudioSegment(data=resampled.tobytes(), sample_width=2, frame_rate=16000, channels=1)"
   ]
  },
  {
   "cell_type": "code",
   "execution_count": 61,
   "metadata": {},
   "outputs": [
    {
     "data": {
      "text/plain": [
       "1000"
      ]
     },
     "execution_count": 61,
     "metadata": {},
     "output_type": "execute_result"
    }
   ],
   "source": [
    "len(first_second)"
   ]
  },
  {
   "cell_type": "code",
   "execution_count": 119,
   "metadata": {},
   "outputs": [
    {
     "data": {
      "text/plain": [
       "(44100,)"
      ]
     },
     "execution_count": 119,
     "metadata": {},
     "output_type": "execute_result"
    }
   ],
   "source": [
    "x = fftpack.fft(sample_array)\n",
    "x.shape"
   ]
  },
  {
   "cell_type": "code",
   "execution_count": 113,
   "metadata": {},
   "outputs": [
    {
     "data": {
      "text/html": [
       "\n",
       "                    <audio controls>\n",
       "                        <source src=\"data:audio/mpeg;base64,SUQzBAAAAAAAI1RTU0UAAAAPAAADTGF2ZjU3LjgzLjEwMAAAAAAAAAAAAAAA//M4xAAPKCbEl0YQAACRRFokgACCGHkyZNMEAQBAEATB8P7hBlz5f+D4Pv+nwQd6wfD4IAgGOD4P4Yy4Pg/xBrP///8AAgGNYPpaAbAhUYgjAkhNyeESKAoV+U9tlEOM13NCQFIRsjENLHCO//M4xCIc4ybMAZhAAGC4EK4gqdeA/kOwugg+rW/SNnqeNu2mm/625eDOFtluYrSK5X/7UeL7p59dx41quJX7riu/h5Tf1RL+onlJuo6q573+/aU90Mr6r56MFP//4YoCPTWy3a6W0c4BljcO//M4xA0YMzL+X8YQAdiSKLSRebT2GScEJVUSEFGdlMYwmhjARSoxmKDWro7uQK5TtMgU15JjLKZbeU31PmUjrrzfZbd2/bt1I6FZOrmJd9ND3Qp031Id1ZJ9nut1r2UaKgIs3tUOWSRJi2hg//M4xAsXKgbmfksGGL4ttmtnNXX07WW9YrSWXjqG7xIdQslmWTAWoUvLOZhiL0zbaM0PPl/zaPl25XYyL8ufsZktIrnJI3dtMILgsOKrAIEoXYss+dZkf5Jbe0qVO11FuSauSRvzLlVOYqXT//M4xA0X6UL+XGBNAuju1HVpO8z7EWfC+VDFCCuipafHra2bKQUkSlKxdbJBeQ5kGsm0yzMaVNKk7Uf0z3BpkEhSZAzV1V3DwAo6kqAUmUF4SPuGNDiDQ7ZQb//5k4tSCBW7TVVYwYILxKHi//M4xAwXCgLSUnmGWOSp3p7ggrEAhIlxa+1YRrW1EtDINRm2UvirQRuzEc78P98ovas6UZy8/snkhsRe77Q+9y8nv/f8EWSfYEgcekLP8qg7YVix5SeLaxc3isXIVQEEaIgzSSN2hMAwur9f//M4xA4X+R7zHGPGbHbJhIMHs64Mg9Qj4zBHwM4mb5hIOo3j9AwOJENzleAGVBACuEI9OUwhVPQqLCBAIlAGDgEAYfitnUACeJwIXAb1lLQQL5OsDiAB1ECGR+c6vzYCd9IEHHiXoMoDhsfA//M4xA0U4F7YSHsSIIkCS6bmibCJpdChpaIg6ZCYLJQoFgWNICiUC4CYHSLaCWSAq3HQCdIzolUeHsIjEMpTix5FYBLHdCg0rOo9izqJ2AQq476KACcZdRYNgBpwMZH6G7M/EWFIAONQsiwi//M4xBgUeU7RksGGUCDpG7sLtdnMkp0K73Wu9s3y386Rf708lrqZ6h36HUjQgYQ5eNe6ufY+/QtuJ/PvmGHPWp+Lm0KmFCn/u+CcP1wiyD3jQBoTDOyXybG25KWuX2UGJYBH4I4qxkblFDyO//M4xCUTqOLYKHmGPDXC5ZfEpZ+hURpW/FmHix5vtQkesiKhO94ig1eDS08lqShTQq0iTKnhAgA2pXSV8JOT2RWVqpEBAEceaQRFWhGtsykZEzQ2EqHIiApBZYrWKnbxKsCIBWoTCxq0asPL//M4xDUT0JrRkHmGTGpPef2vlSaHex08Snu55N3x5g+D4SovS6DSqnVLt9rrbLIBdD59DGv7JCdJFFnGCQV3OFcRxWuEusYsoJBiKN4SDLzeyCZAHMvLQ1Bbg8JEE6SZw4fgQATFosZYc/0H//M4xEQTaOcmXkvMwtrg2Zd/t1ezr1V1JtJRkdrnqaKsRpRx0wM43E4ivVGpt+PidQgbDJHqv/ko+rkhAKRsxLRLy6zYytUFjB4SlDon4hdj5LU1i3gSBnr+E1AYt7KMVakF/z3/9ylYhMoR//M4xFUUMQLufHpGPEyojIEieYByvfx84C9gEYwABAJfgwDApYJW7kgYnqBBBGKw2TyQIIeeqAgCGXD5d4gdNlygIKMOwOcE4fQ4Th//oWXB8+XeGBPh/8oYGWkQZvISRG3FyFqEyUSqV6bj//M4xGMUQML2fGGSTLCnC0zYwIzuT/UsInEiVXUrnz0I+k2jScbgfZFVSwrT/kNbOcW0i4RmMcHIzhbaocz1uU5ehNkbkptTnneX1zbI5fpZt7JbbZIBUqC44rW3howjQQtR4Sj46EA6/6Mn//M4xHEU4b7xkDPGKDZLqxVbmt1UT33qDvCJQyAiC6ACWCqlgENHzJ4GmmaBUuAkCJIkYxRgozG7qaN7VKb0SSe/RxRINBexJVUpDhcCx+5Va6uRAxVhqbSWarAyJq67LBO9eVi0Sr36oUmC//M4xHwVAOMuXnsGGiljDD1LkawDkY6Xc1mBawkKrLuxYhT1pRMJVV55BGqrb+t/wprYlkkcckkj8DBQBbN6PfqJhVdZnZbUvo+RgGp6KH933uJR2qA6AuSp6wcPvIhU0LI1yFGao/l3dUm5//M4xIcTeLLu9FsGGAweAjjoIBwPVnMcPdPTVbA6+JczuVEe5C40EKoWp0LkskUhu1Z5zC8UcUNtMH0T0TcDcDDNprC08qYCjHrKi8gR2TeM26m/6ZnbFnf3YXD+Ki2SUGAqDYkE4oLskFLZ//M4xJgUcV8OXHoGiu8xei1N7DghkBfamZxMpOGP8rdVekkskkskkkGLB0F1RtptoWSRrIIwR6o23bYkVYOWAm5oMoAOxFyujQ/RUVnth3bktWPbJB3TXpHMsSoEHW1AJWlNTU98TDtAv3WM//M4xKUWSXLiMGBNBCtPRuo9BVUwDAWWpiQxm4fj/LGZlmilwRYh1A8gcuPPnjr1dfW5b0aCD5xbQOUUKOSoETM7B8PrqDBt6ze5QcMBMaHREhhJ7rGn/I+5C+qvcdviqbUUrSpRBGNNySxx//M4xKoUUXceXkjE1iGMiF0H6cmm0T2m2UEauKAldn3Vb/wH7SPBwKGgJDog6lKn8nZLP+C7YHKZrgrashNLpKlXWiud5JYJlgWYkiLCcM0NDhAn/1vF/qoiMnJ23HckaFIjTIqHDCrQDYpu//M4xLcUGL7dknpEPLoKA+xZ0KNOsw1OGRICBhwESHXoLUl4oQ3l+fNi5aKhsMNQmFCTQVtBtcBnHak0lJhOg+pqnCjpbnzT/UDVd++jH2mszjyElkWKgqrIhqmIKUtyJqDbZFTJo7u9bwka//M4xMUUoXL2XhJGDMlM36pSDOz7jdiKhVJyi0ZO/Mzfuf9PG2dbe2oO9Vv7NEY/+0IBoJBsK5ycqosnishUv79v4OWbcVS74qUV6UgGqUYhEioPQKkIefjB72wqiCrUMZ42ZbSbmimqpIGT//M4xNEVOOrmPCpGFA/N2ItJca9Td8EnovIx1pTVXQZPKulb98j6dcukS3oyX/Y0VM1jJdJKVdfwMxmWq+X8PbUQfhtghQKwHX0jFtB6lklVmkqUiDuIqi2X5JgMWIsQcQwitaQMZyj6oHjm//M4xNsWkqLY0jBHxFoqlDctYP/Et04jaZp35xlX3HN1D18+8+6lOnr/S4YX+jZ32YG6LJf586lvouz9eYMaus72FbBCRTroeD0JWp4OV84F3dk2PkudSpMi9dA5gO7wreQtKibpoGaRKkOa//M4xN8VMgrVkkBFwHEDp1zZ1ZdYXmv7scGfQSMxxkqmZ9KR4RT6ZNgrPPytRlLeNlPhJ8fQ58nMzz6XT5+SsP5fzJX+MeogR9rVymhm+ll2sluEsGBA4KZKgFHf+klNPF+1tau0+Monvr97//M4xOkYEkrIqEGGPX9ozsxChiBhijXYZzray1OJBOIahWaxMGxTCQQkcQ8OVWKrEden7arZToyn/+edJ6u2+0ykECPXv62waf8nVqJb+QGvScoxK1y8ghCjjGinj1y4QiqTSssHURh9OS8c//M4xOcZkxrN6HmGeQPFYxKSYeZCxIApUUoVoivIMTAPSJPtn1l1wiJydyNZEQsIiWRCyfiSJIIh+63yWIvFuMsaSwu/G1orNRSRRZ247eyxfIML+JFOOfyqU5Vl6eX1TZb/OYLCvLgSsLoP//M4xN8Zuxb6/1gQAS6yKpev/5Wf8rmoPs7a3i+3b1GrkzhXIhDRa0qdAX/Bf/h2AQggAgBcL/MO8dE3nOn7DYKiL/jALhGJkf/THSwjf/hETMsPD3/+Pjk4eHiQCQh///GAXCMSNOUajrTv//M4xNcmsubSNYxIAP//80eHnRHHTTUzjv////y5tUxBTUUzLjk5LjVVVVVVVVVVVVVVVVVVVVVVVVVVVVVVVVVVVVVVVVVVVVVVVVVVVVVVVVVVVVVVVVVVVVVVVVVVVVVVVVVVVVVVVVVV//M4xJsTWy5gFYc4AFVVVVVVVVVVVVVVVVVVVVVVVVVVVVVVVVVVVVVVVVVVVVVVVVVVVVVVVVVVVVVVVVVVVVVVVVVVVVVVVVVVVVVVVVVVVVVVVVVVVVVVVVVVVVVVVVVVVVVVVVVVVVVV\" type=\"audio/mpeg\"/>\n",
       "                        Your browser does not support the audio element.\n",
       "                    </audio>\n",
       "                  "
      ],
      "text/plain": [
       "<pydub.audio_segment.AudioSegment at 0x125bbe400>"
      ]
     },
     "execution_count": 113,
     "metadata": {},
     "output_type": "execute_result"
    }
   ],
   "source": [
    "len(sound)\n"
   ]
  },
  {
   "cell_type": "code",
   "execution_count": 97,
   "metadata": {},
   "outputs": [
    {
     "data": {
      "text/plain": [
       "array([-8200, -5637, -8224, -8485, -3359], dtype=int16)"
      ]
     },
     "execution_count": 97,
     "metadata": {},
     "output_type": "execute_result"
    }
   ],
   "source": [
    "x = sample_array[:10]\n",
    "x[::2]"
   ]
  },
  {
   "cell_type": "code",
   "execution_count": 98,
   "metadata": {},
   "outputs": [
    {
     "data": {
      "text/plain": [
       "array([-8200, -5637, -8224, -8485, -3359], dtype=int16)"
      ]
     },
     "execution_count": 98,
     "metadata": {},
     "output_type": "execute_result"
    }
   ],
   "source": [
    "x[::2]"
   ]
  },
  {
   "cell_type": "code",
   "execution_count": 31,
   "metadata": {},
   "outputs": [
    {
     "data": {
      "text/plain": [
       "16000"
      ]
     },
     "execution_count": 31,
     "metadata": {},
     "output_type": "execute_result"
    }
   ],
   "source": [
    "resampled = signal.resample(sample_array, 16000)"
   ]
  },
  {
   "cell_type": "code",
   "execution_count": 41,
   "metadata": {},
   "outputs": [],
   "source": []
  },
  {
   "cell_type": "code",
   "execution_count": 48,
   "metadata": {},
   "outputs": [],
   "source": [
    "#file = open(path)\n",
    "#x = np.fromfile(file)\n",
    "#x1 = x[:1000]"
   ]
  },
  {
   "cell_type": "code",
   "execution_count": null,
   "metadata": {},
   "outputs": [],
   "source": []
  },
  {
   "cell_type": "code",
   "execution_count": null,
   "metadata": {
    "collapsed": true
   },
   "outputs": [],
   "source": []
  }
 ],
 "metadata": {
  "kernelspec": {
   "display_name": "Python 3",
   "language": "python",
   "name": "python3"
  },
  "language_info": {
   "codemirror_mode": {
    "name": "ipython",
    "version": 3
   },
   "file_extension": ".py",
   "mimetype": "text/x-python",
   "name": "python",
   "nbconvert_exporter": "python",
   "pygments_lexer": "ipython3",
   "version": "3.6.1"
  }
 },
 "nbformat": 4,
 "nbformat_minor": 2
}
